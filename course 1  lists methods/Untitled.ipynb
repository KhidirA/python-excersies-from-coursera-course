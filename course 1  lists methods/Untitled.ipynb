{
 "cells": [
  {
   "cell_type": "code",
   "execution_count": null,
   "metadata": {},
   "outputs": [],
   "source": [
    "orginlist = [45,32,88]\n",
    "aliaslis = orginlist\n",
    "orginlist += [\"cat\"]\n",
    "orginlist = orginlist+[\"cat\"]\n",
    "print(orginlist)\n",
    "print(aliaslis)"
   ]
  },
  {
   "cell_type": "code",
   "execution_count": null,
   "metadata": {},
   "outputs": [],
   "source": [
    "ss = \"    hello. world   \"\n",
    "\n",
    "els = ss.count('l')\n",
    "print(els)\n",
    "\n",
    "print(\"******\"+ss.strip()+\"****\")\n",
    "\n",
    "news = ss.replace(\"o\",\"*****\")\n",
    "print(news)"
   ]
  },
  {
   "cell_type": "code",
   "execution_count": null,
   "metadata": {},
   "outputs": [],
   "source": [
    "score = [(\"Rodney Danderfield\", -1),(\"abdulqader Khidir\",1),(\"you\", 100)]\n",
    "for person in score:\n",
    "    name = person[0]\n",
    "    score = person[1]\n",
    "    print(\"Hello {}. Your score is {}.\".format(name, score))"
   ]
  },
  {
   "cell_type": "code",
   "execution_count": 3,
   "metadata": {},
   "outputs": [
    {
     "name": "stdout",
     "output_type": "stream",
     "text": [
      "Enter the orginal prince: $89.99\n",
      "Enter discount percentage:20\n",
      "$89.99 discount by 20.0% is $71.99.\n"
     ]
    }
   ],
   "source": [
    "origPrice = float(input('Enter the orginal prince: $'))\n",
    "discount = float(input('Enter discount percentage:'))\n",
    "newPrice = (1 - discount/100)* origPrice\n",
    "calculation = '${:.2f} discount by {}% is ${:.2f}.'.format(origPrice,discount,newPrice)\n",
    "print(calculation)"
   ]
  },
  {
   "cell_type": "code",
   "execution_count": null,
   "metadata": {},
   "outputs": [],
   "source": []
  }
 ],
 "metadata": {
  "kernelspec": {
   "display_name": "Python 3",
   "language": "python",
   "name": "python3"
  },
  "language_info": {
   "codemirror_mode": {
    "name": "ipython",
    "version": 3
   },
   "file_extension": ".py",
   "mimetype": "text/x-python",
   "name": "python",
   "nbconvert_exporter": "python",
   "pygments_lexer": "ipython3",
   "version": "3.7.0"
  }
 },
 "nbformat": 4,
 "nbformat_minor": 4
}
