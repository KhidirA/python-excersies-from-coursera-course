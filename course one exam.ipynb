{
 "cells": [
  {
   "cell_type": "code",
   "execution_count": 1,
   "metadata": {},
   "outputs": [],
   "source": [
    "\n",
    "#Below are a set of scores that students have received in the past semester. \n",
    "#Write code to determine how many are 90 or above and assign that result to the value a_scores.\n",
    "scores = \"67 80 90 78 93 20 79 89 96 97 92 88 79 68 58 90 98 100 79 74 83 88 80 86 85 70 90 100\"\n",
    "scores = scores.split(\" \")\n",
    "\n",
    "a_scores = 0\n",
    "for grade in scores:\n",
    "    grade = int(grade)\n",
    "    if grade >= 90:\n",
    "        a_scores +=1\n",
    "\n",
    "        \n"
   ]
  },
  {
   "cell_type": "code",
   "execution_count": null,
   "metadata": {},
   "outputs": [],
   "source": [
    "#Write code that uses the string stored in org and creates an acronym which is assigned to the variable acro.\n",
    "#Only the first letter of each word should be used, each letter in the acronym should be a capital letter, \n",
    "#and there should be nothing to separate the letters of the acronym. Words that should not be included in \n",
    "#the acronym are stored in the list stopwords. For example, if org was assigned the string “hello to world” \n",
    "#then the resulting acronym should be “HW”.\n",
    "\n",
    "stopwords = ['to', 'a', 'for', 'by', 'an', 'am', 'the', 'so', 'it', 'and', \"The\"]\n",
    "org = \"The organization for health, safety, and education\"\n",
    "org = org.split(\" \")\n",
    "acro = \"\"\n",
    "for word in org:\n",
    "    word = str(word)\n",
    "    if word not in stopwords:\n",
    "       \n",
    "        acro = acro + word[0].upper()\n",
    "print(acro)"
   ]
  },
  {
   "cell_type": "code",
   "execution_count": null,
   "metadata": {},
   "outputs": [],
   "source": [
    "#Write code that uses the string stored in sent and creates an acronym which is assigned to the variable acro. \n",
    "#The first two letters of each word should be used, each letter in the acronym should be a capital letter,\n",
    "#and each element of the acronym should be separated by a “. ” (dot and space). Words that should not be \n",
    "#included in the acronym are stored in the list stopwords. For example, if sent was assigned the string \n",
    "#“height and ewok wonder” then the resulting acronym should be “HE. EW. WO”.\n",
    "\n",
    "stopwords = ['to', 'a', 'for', 'by', 'an', 'am', 'the', 'so', 'it', 'and', 'The']\n",
    "sent = \"The water earth and air are vital\"\n",
    "sent = sent.split(\" \")\n",
    "acro = \"\"\n",
    "for wordt in sent:\n",
    "    wordt = str(wordt)\n",
    "    \n",
    "    if wordt not in stopwords:\n",
    "        \n",
    "        acro = acro + wordt[0].upper() +wordt[1].upper()\n",
    "        if wordt != sent[-1]:\n",
    "            acro = acro + \". \"\n",
    "\n",
    "print(acro)"
   ]
  },
  {
   "cell_type": "code",
   "execution_count": null,
   "metadata": {},
   "outputs": [],
   "source": [
    "#A palindrome is a phrase that, if reversed, would read the exact same. Write code that checks \n",
    "#if p_phrase is a palindrome by reversing it and then checking if the reversed version is equal\n",
    "#to the original. Assign the reversed version of p_phrase to the variable r_phrase so that we can \n",
    "#check your work.\n",
    "\n",
    "p_phrase = \"was it a car or a cat I saw\"\n",
    "\n",
    "r_phrase = p_phrase[::-1]\n",
    "if p_phrase == r_phrase:\n",
    "    \n",
    "    print(r_phrase)"
   ]
  },
  {
   "cell_type": "code",
   "execution_count": null,
   "metadata": {},
   "outputs": [],
   "source": [
    "#Provided is a list of data about a store’s inventory where each item in the list represents the name of an item,\n",
    "#how much is in stock, and how much it costs. Print out each item in the list with the same formatting, using the \n",
    "#.format method (not string concatenation). For example, the first print statment should read The store has 12 shoes,\n",
    "#each for 29.99 USD.\n",
    "inventory = [\"shoes, 12, 29.99\", \"shirts, 20, 9.99\", \"sweatpants, 25, 15.00\", \"scarves, 13, 7.75\"]\n",
    "\n",
    "for l in inventory:\n",
    "    l = l.split(\",\")\n",
    "    item = l[0]\n",
    "    num = l[1]\n",
    "    price = l[2]\n",
    "    print(\"The stor has{} {}, each for {} USD.\".format(num,item,price))\n",
    "\n",
    "  \n",
    "\n"
   ]
  },
  {
   "cell_type": "code",
   "execution_count": null,
   "metadata": {},
   "outputs": [],
   "source": [
    "winners = ['Alice Munro', 'Alvin E. Roth', 'Kazuo Ishiguro', 'Malala Yousafzai', 'Rainer Weiss', 'Youyou Tu']\n",
    "z_winners = []\n",
    "z_winners = winners.reverse()\n",
    "\n",
    "\n",
    "print(z_winners)"
   ]
  },
  {
   "cell_type": "code",
   "execution_count": null,
   "metadata": {},
   "outputs": [],
   "source": [
    "#For each string in wrds, add ‘ed’ to the end of the word (to make the word past tense). \n",
    "#Save these past tense words to a list called past_wrds.\n",
    "\n",
    "\n",
    "wrds = [\"end\", 'work', \"play\", \"start\", \"walk\", \"look\", \"open\", \"rain\", \"learn\", \"clean\"]\n",
    "past_wrds=[]\n",
    "for word in wrds:\n",
    "    word+=\"ed\"\n",
    "    past_wrds.append(word)\n",
    "print(past_wrds)"
   ]
  },
  {
   "cell_type": "code",
   "execution_count": null,
   "metadata": {},
   "outputs": [],
   "source": [
    "def make_pizza(*toping):\n",
    "    print(toping)\n",
    "\n",
    "make_pizza('tomato')\n",
    "make_pizza(9,\"green peper\",\"apple\")"
   ]
  },
  {
   "cell_type": "code",
   "execution_count": 21,
   "metadata": {},
   "outputs": [
    {
     "data": {
      "text/plain": [
       "5"
      ]
     },
     "execution_count": 21,
     "metadata": {},
     "output_type": "execute_result"
    }
   ],
   "source": [
    "def digital_root(n):\n",
    "    # ...\n",
    "    n  = str(n)\n",
    "\n",
    "    while len(n) != 1:\n",
    "        sumOf = 0\n",
    "        for k in n:\n",
    "            k=int(k)\n",
    "            sumOf+=k\n",
    "        n = str(sumOf)\n",
    "\n",
    "    n = int(n)\n",
    "    return n\n",
    "digital_root(14)"
   ]
  },
  {
   "cell_type": "code",
   "execution_count": 20,
   "metadata": {},
   "outputs": [
    {
     "data": {
      "text/plain": [
       "5"
      ]
     },
     "execution_count": 20,
     "metadata": {},
     "output_type": "execute_result"
    }
   ],
   "source": [
    "14%9"
   ]
  },
  {
   "cell_type": "code",
   "execution_count": null,
   "metadata": {},
   "outputs": [],
   "source": []
  }
 ],
 "metadata": {
  "kernelspec": {
   "display_name": "Python 3",
   "language": "python",
   "name": "python3"
  },
  "language_info": {
   "codemirror_mode": {
    "name": "ipython",
    "version": 3
   },
   "file_extension": ".py",
   "mimetype": "text/x-python",
   "name": "python",
   "nbconvert_exporter": "python",
   "pygments_lexer": "ipython3",
   "version": "3.7.0"
  }
 },
 "nbformat": 4,
 "nbformat_minor": 4
}
