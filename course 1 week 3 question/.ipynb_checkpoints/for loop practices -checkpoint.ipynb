{
 "cells": [
  {
   "cell_type": "code",
   "execution_count": null,
   "metadata": {},
   "outputs": [],
   "source": [
    "import turtle\n",
    "wn = turtle.Screen()\n",
    "alex = turtle.Turtle()\n",
    "\n",
    "for aColor in [\"yellow\", \"red\",\"purple\", \"blue\"]:\n",
    "    alex.color(aColor)\n",
    "    alex.forward(50)\n",
    "    alex.left(90)\n",
    "    \n",
    "wn.exitonclick()"
   ]
  },
  {
   "cell_type": "code",
   "execution_count": null,
   "metadata": {},
   "outputs": [],
   "source": [
    "#Write one for loop to print out each character of the string my_str on a separate line.\n",
    "\n",
    "my_str = \"MICHIGAN\"\n",
    "\n",
    "for  m in my_str:\n",
    "    print(m)\n",
    "    "
   ]
  },
  {
   "cell_type": "code",
   "execution_count": null,
   "metadata": {},
   "outputs": [],
   "source": [
    "#Write code that uses iteration to print\n",
    "#out the length of each element of the list stored in str_list.\n",
    "\n",
    "str_list = [\"hello\", \"\", \"goodbye\", \"wonderful\", \"I love Python\"]\n",
    "\n",
    "\n",
    "\n",
    "for  i in str_list:\n",
    "    inc = 0\n",
    "    for c in i:\n",
    "        inc = inc + 1\n",
    "    print(inc)\n",
    "\n"
   ]
  },
  {
   "cell_type": "code",
   "execution_count": null,
   "metadata": {},
   "outputs": [],
   "source": [
    "#Write one for loop to print out each element of \n",
    "#the list several_things. Then, write another for\n",
    "#loop to print out the TYPE of each element of the \n",
    "#list several_things. To complete this problem you \n",
    "#should have written two different for loops, each \n",
    "#of which iterates over the list several_things,\n",
    "#but each of those 2 for loops should have a different result.\n",
    "\n",
    "several_things = [\"hello\", 2, 4, 6.0, 7.5, 234352354, \"the end\", \"\", 99]\n",
    "\n",
    "\n",
    "for  m in several_things:\n",
    "    print(m)\n",
    "    \n",
    "for  m in several_things:\n",
    "    print(type(m))\n",
    "    "
   ]
  },
  {
   "cell_type": "code",
   "execution_count": null,
   "metadata": {},
   "outputs": [],
   "source": [
    "#Write code to count the number of characters\n",
    "#in original_str using the accumulation pattern \n",
    "#and assign the answer to a variable num_chars.\n",
    "#Do NOT use the len function to solve the problem \n",
    "#(if you use it while you are working on this problem,\n",
    "#comment it out afterward!)\n",
    "\n",
    "\n",
    "original_str = \"The quick brown rhino jumped over the extremely lazy fox.\"\n",
    "num_chars = 0\n",
    "for c in original_str:\n",
    "    num_chars = num_chars + 1\n",
    "    \n",
    "\n",
    "\n",
    "\n"
   ]
  },
  {
   "cell_type": "code",
   "execution_count": null,
   "metadata": {},
   "outputs": [],
   "source": [
    "#addition_str is a string with a list of \n",
    "#numbers separated by the + sign. Write code\n",
    "#that uses the accumulation pattern to take \n",
    "#the sum of all of the numbers and assigns it \n",
    "#to sum_val (an integer). (You should use the \n",
    "#.split(\"+\") function to split by \"+\" and int() \n",
    "#to cast to an integer).\n",
    "\n",
    "addition_str = \"2+5+10+20\"\n",
    "addition_str = addition_str.split(\"+\")\n",
    "sum_val = 0\n",
    "for n in addition_str:\n",
    "    sum_val = sum_val + int(n)\n",
    "\n",
    "print(sum_val)"
   ]
  },
  {
   "cell_type": "code",
   "execution_count": null,
   "metadata": {},
   "outputs": [],
   "source": [
    "#week_temps_f is a string with a list of\n",
    "#fahrenheit temperatures separated by the \n",
    "#, sign. Write code that uses the accumulation\n",
    "#pattern to compute the average (sum divided by \n",
    "#number of items) and assigns it to avg_temp. Do \n",
    "#not hard code your answer (i.e., make your code\n",
    "#compute both the sum or the number of items in \n",
    "#week_temps_f) (You should use the .split(\",\") \n",
    "#function to split by \",\" and float() to cast to a float).\n",
    "\n",
    "week_temps_f = \"75.1,77.7,83.2,82.5,81.0,79.5,85.7\"\n",
    "week_temps_f=week_temps_f.split(',')\n",
    "sumn = 0\n",
    "count = 0\n",
    "for t in week_temps_f:\n",
    "    sumn = sumn + float(t)\n",
    "    count = count + 1\n",
    "\n",
    "avg_temp = sumn/count\n",
    "\n"
   ]
  },
  {
   "cell_type": "code",
   "execution_count": 2,
   "metadata": {},
   "outputs": [
    {
     "name": "stdout",
     "output_type": "stream",
     "text": [
      "[0, 1, 2, 3, 4, 5, 6, 7, 8, 9, 10, 11, 12, 13, 14, 15, 16, 17, 18, 19, 20, 21, 22, 23, 24, 25, 26, 27, 28, 29, 30, 31, 32, 33, 34, 35, 36, 37, 38, 39, 40, 41, 42, 43, 44, 45, 46, 47, 48, 49, 50, 51, 52, 53, 54, 55, 56, 57, 58, 59, 60, 61, 62, 63, 64, 65, 66, 67]\n"
     ]
    }
   ],
   "source": [
    "#Write code to create a list of numbers from \n",
    "#0 to 67 and assign that list to the variable \n",
    "#nums. Do not hard code the list.\n",
    "\n",
    "nums=[]\n",
    "for i in range(68):\n",
    "    nums.insert(i,i)\n",
    "    \n",
    "print(nums)"
   ]
  },
  {
   "cell_type": "raw",
   "metadata": {},
   "source": []
  },
  {
   "cell_type": "code",
   "execution_count": 35,
   "metadata": {},
   "outputs": [
    {
     "name": "stdout",
     "output_type": "stream",
     "text": [
      "[3, 5, 5, 5, 6, 4, 3, 9, 4, 3]\n"
     ]
    }
   ],
   "source": [
    "#Write code to create a list of word lengths for the words in original_str using the accumulation \n",
    "#pattern and assign the answer to a variable num_words_list. (You should use the len function).\n",
    "\n",
    "original_str = \"The quick brown rhino jumped over the extremely lazy fox\"\n",
    "count = 0\n",
    "\n",
    "num_words_list = []\n",
    "i = 0\n",
    "start = 0\n",
    "count = 0\n",
    "for n in original_str:\n",
    "    if (n != \" \"): \n",
    "        count = count + 1\n",
    "    if(n == \" \"):\n",
    "        numl = len(original_str[start:count])\n",
    "        \n",
    "        num_words_list.insert(i,numl)\n",
    "        count = 0\n",
    "        \n",
    "    i = i + 1\n",
    "num_words_list.insert(i,count)\n",
    "print(num_words_list)\n",
    "\n",
    "\n",
    "\n",
    "\n"
   ]
  },
  {
   "cell_type": "code",
   "execution_count": 37,
   "metadata": {},
   "outputs": [
    {
     "name": "stdout",
     "output_type": "stream",
     "text": [
      "bbbbbbb\n"
     ]
    }
   ],
   "source": [
    "#Create an empty string and assign it to the variable lett. Then using range, write code such that when\n",
    "#your code is run, lett has 7 b’s (\"bbbbbbb\").\n",
    "\n",
    "lett = \"\"\n",
    "\n",
    "for n in range(7):\n",
    "    lett = lett + 'b'\n",
    "    \n",
    "print(lett)"
   ]
  },
  {
   "cell_type": "code",
   "execution_count": null,
   "metadata": {},
   "outputs": [],
   "source": [
    "#Write a program that uses the turtle module and a for loop to draw something. \n",
    "#It doesn’t have to be complicated, but draw something different than we have done \n",
    "#in the past. (Hint: if you are drawing something complicated, it could get tedious \n",
    "#to watch it draw over and over. Try setting .speed(10) for the turtle to draw fast,\n",
    "#or .speed(0) for it to draw super fast with no animation.)\n",
    "\n",
    "import turtle\n",
    "wn = turtle.Screen()\n",
    "alex = turtle.Turtle()\n",
    "\n",
    "for aColor in [\"yellow\", \"red\",\"purple\", \"blue\"]:\n",
    "    alex.color(aColor)\n",
    "    alex.forward(50)\n",
    "    alex.left(90)\n",
    "    alex.color(aColor)\n",
    "    alex.forward(10)\n",
    "    alex.left(60)\n",
    "    \n",
    "wn.exitonclick()\n"
   ]
  },
  {
   "cell_type": "code",
   "execution_count": null,
   "metadata": {},
   "outputs": [],
   "source": []
  }
 ],
 "metadata": {
  "kernelspec": {
   "display_name": "Python 3",
   "language": "python",
   "name": "python3"
  },
  "language_info": {
   "codemirror_mode": {
    "name": "ipython",
    "version": 3
   },
   "file_extension": ".py",
   "mimetype": "text/x-python",
   "name": "python",
   "nbconvert_exporter": "python",
   "pygments_lexer": "ipython3",
   "version": "3.7.0"
  }
 },
 "nbformat": 4,
 "nbformat_minor": 4
}
