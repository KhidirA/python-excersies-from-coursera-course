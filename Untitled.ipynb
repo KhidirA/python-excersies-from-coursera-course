{
 "cells": [
  {
   "cell_type": "code",
   "execution_count": 7,
   "metadata": {},
   "outputs": [
    {
     "name": "stdout",
     "output_type": "stream",
     "text": [
      "0.43989564855846297\n",
      "2\n"
     ]
    }
   ],
   "source": [
    "import random\n",
    "\n",
    "\n",
    "prob = random.random() # gives a random float number from 0 to 1\n",
    "print(prob)\n",
    "\n",
    "dicThrow = random.randrange(1,7) #return an int, one of 1,2,3,4,5,63\n",
    "print(dicThrow)"
   ]
  },
  {
   "cell_type": "code",
   "execution_count": 8,
   "metadata": {},
   "outputs": [
    {
     "name": "stdout",
     "output_type": "stream",
     "text": [
      "0.118509645903346\n",
      "6\n"
     ]
    }
   ],
   "source": [
    "#another method of doing the same thing\n",
    "from random import randrange,random\n",
    "prob = random() # gives a random float number from 0 to 1\n",
    "print(prob)\n",
    "\n",
    "dicThrow = randrange(1,7)\n",
    "print(dicThrow)"
   ]
  },
  {
   "cell_type": "code",
   "execution_count": null,
   "metadata": {},
   "outputs": [],
   "source": []
  }
 ],
 "metadata": {
  "kernelspec": {
   "display_name": "Python 3",
   "language": "python",
   "name": "python3"
  },
  "language_info": {
   "codemirror_mode": {
    "name": "ipython",
    "version": 3
   },
   "file_extension": ".py",
   "mimetype": "text/x-python",
   "name": "python",
   "nbconvert_exporter": "python",
   "pygments_lexer": "ipython3",
   "version": "3.7.0"
  }
 },
 "nbformat": 4,
 "nbformat_minor": 4
}
